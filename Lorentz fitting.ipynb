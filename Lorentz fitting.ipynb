{
 "cells": [
  {
   "cell_type": "code",
   "execution_count": 2,
   "metadata": {},
   "outputs": [],
   "source": [
    "import matplotlib\n",
    "import matplotlib.pyplot as plt\n",
    "import numpy as np\n",
    "import scipy as scipy\n",
    "from scipy import optimize\n",
    "from matplotlib.ticker import AutoMinorLocator\n",
    "from matplotlib import gridspec\n",
    "import matplotlib.ticker as ticker\n",
    "%matplotlib inline"
   ]
  },
  {
   "cell_type": "code",
   "execution_count": 25,
   "metadata": {},
   "outputs": [
    {
     "name": "stdout",
     "output_type": "stream",
     "text": [
      "[[1.60000000e+03 2.59597856e-02]\n",
      " [1.62000000e+03 2.77969301e-02]\n",
      " [1.64000000e+03 2.99290378e-02]\n",
      " [1.66000000e+03 3.24327961e-02]\n",
      " [1.68000000e+03 3.54135866e-02]\n",
      " [1.70000000e+03 3.90206395e-02]\n",
      " [1.72000000e+03 4.34717834e-02]\n",
      " [1.74000000e+03 4.90988766e-02]\n",
      " [1.76000000e+03 5.64299759e-02]\n",
      " [1.78000000e+03 6.63583672e-02]\n",
      " [1.80000000e+03 8.05160141e-02]\n",
      " [1.82000000e+03 1.02174943e-01]\n",
      " [1.84000000e+03 1.38731210e-01]\n",
      " [1.86000000e+03 2.08425167e-01]\n",
      " [1.88000000e+03 3.29237919e-01]\n",
      " [1.90000000e+03 3.04046579e-01]\n",
      " [1.92000000e+03 1.88864893e-01]\n",
      " [1.94000000e+03 1.27924941e-01]\n",
      " [1.96000000e+03 9.52343367e-02]\n",
      " [1.98000000e+03 7.54410449e-02]\n",
      " [2.00000000e+03 6.22986662e-02]\n",
      " [2.02000000e+03 5.29764174e-02]\n",
      " [2.04000000e+03 4.60353587e-02]\n",
      " [2.06000000e+03 4.06725721e-02]\n",
      " [2.08000000e+03 3.64084830e-02]\n",
      " [2.10000000e+03 3.29387665e-02]\n",
      " [2.12000000e+03 3.00614716e-02]\n",
      " [2.14000000e+03 2.76376720e-02]\n",
      " [2.16000000e+03 2.55685102e-02]\n",
      " [2.18000000e+03 2.37820124e-02]\n",
      " [2.20000000e+03 2.22242734e-02]\n",
      " [2.22000000e+03 2.08542271e-02]\n",
      " [2.24000000e+03 1.96402320e-02]\n",
      " [2.26000000e+03 1.85571158e-02]\n",
      " [2.28000000e+03 1.75850984e-02]\n",
      " [2.30000000e+03 1.67080676e-02]\n",
      " [2.32000000e+03 1.59128187e-02]\n",
      " [2.34000000e+03 1.51886445e-02]\n",
      " [2.36000000e+03 1.45264054e-02]\n",
      " [2.38000000e+03 1.39186972e-02]\n",
      " [2.40000000e+03 1.33591076e-02]]\n"
     ]
    }
   ],
   "source": [
    "#test6_gap size sweep from 2 um to 50 um.txt\n",
    "\n",
    "fd = open('test6_gap size sweep from 2 um to 50 um.txt','r')   \n",
    "\n",
    "d = np.loadtxt(fd,\n",
    "           comments='%',delimiter=None)\n",
    "fd.close()\n",
    "# print(d[532:536])\n",
    "#print(x_array)\n",
    "\n",
    "arg=(np.arange(2,7,1), np.arange(7.5,16,2.5), np.arange(20,51,5)) #make the gap size array\n",
    "gap=np.concatenate(arg)\n",
    "#print(gap)\n",
    "\n",
    "steps=41 #frequency scan steps\n",
    "#print(len(gap), len(d))\n",
    "\n",
    "# Data=([])\n",
    "# Data[0]=d[532:536]\n",
    "\n",
    "\n",
    "# Data[0]=d[0:40]\n",
    "\n",
    "\n",
    "    \n",
    "dataset=np.split(d,len(gap),axis=0) #data sets of different gap size\n",
    "#print(dataset[2])\n",
    "\n",
    "\n",
    "test=dataset[len(dataset)-3] #one set of data\n",
    "x_array=test[:,0]\n",
    "y_array=test[:,1]\n",
    "\n",
    "#print(x_array[3])\n",
    "\n",
    "#initial guess for the fitting\n",
    "amp1 = 1 #estimated vibration amplitude in nm\n",
    "cen1 = 2000 #Hz\n",
    "wid1 = 200\n",
    "offset1=0.2 #nm\n",
    "\n",
    "\n",
    "#print(test)\n",
    "\n"
   ]
  },
  {
   "cell_type": "code",
   "execution_count": 24,
   "metadata": {},
   "outputs": [
    {
     "data": {
      "image/png": "[encoded data removed]",
      "text/plain": [
       "<Figure size 288x216 with 1 Axes>"
      ]
     },
     "metadata": {
      "needs_background": "light"
     },
     "output_type": "display_data"
    }
   ],
   "source": [
    "fig = plt.figure(figsize=(4,3))\n",
    "gs = gridspec.GridSpec(1,1)\n",
    "ax1 = fig.add_subplot(gs[0])\n",
    "\n",
    "ax1.plot(x_array, y_array, \"ro\")\n",
    "\n",
    "#ax1.set_xlim(-5,105)\n",
    "#ax1.set_ylim(-0.5,5)\n",
    "\n",
    "ax1.set_xlabel(\"x_array\",family=\"serif\",  fontsize=12)\n",
    "ax1.set_ylabel(\"y_array\",family=\"serif\",  fontsize=12)\n",
    "\n",
    "ax1.xaxis.set_major_locator(ticker.MultipleLocator(50))\n",
    "#ax1.yaxis.set_major_locator(ticker.MultipleLocator(50))\n",
    "\n",
    "# ax1.xaxis.set_minor_locator(AutoMinorLocator(2))\n",
    "# ax1.yaxis.set_minor_locator(AutoMinorLocator(2))\n",
    "\n",
    "ax1.tick_params(axis='both',which='major', direction=\"out\", top=\"on\", right=\"on\", bottom=\"on\", length=8, labelsize=8)\n",
    "\n",
    "\n",
    "fig.tight_layout()\n",
    "fig.savefig(\"raw_resonance.png\", format=\"png\",dpi=1000)"
   ]
  },
  {
   "cell_type": "code",
   "execution_count": 26,
   "metadata": {},
   "outputs": [],
   "source": [
    "#reference paper: acoustic quality factor and energy losses in cylinderical pipes.pdf\n",
    "\n",
    "def resonance(f, C, f0, r):\n",
    "    return C/np.sqrt((f**2-f0**2)**2+(r*f)**2)\n",
    "\n",
    "f0=1900 #central frequency in Hz\n",
    "r=200*np.pi #estimated resonance width \n",
    "C=2e6*np.pi # amplitude factor, which is decided by F/m\n"
   ]
  },
  {
   "cell_type": "code",
   "execution_count": 27,
   "metadata": {},
   "outputs": [
    {
     "name": "stdout",
     "output_type": "stream",
     "text": [
      "46.38009829562273 0.35342529958710256 1888.3158264888461\n"
     ]
    }
   ],
   "source": [
    "#curve fitting\n",
    "\n",
    "popt, pcov = scipy.optimize.curve_fit(resonance, x_array, y_array, p0=[C,f0,r],bounds=(0, +np.inf))\n",
    "\n",
    "perr = np.sqrt(np.diag(pcov))\n",
    "\n",
    "residual = y_array - (resonance(x_array, *popt))\n",
    "\n",
    "#print(popt)\n",
    "pars_1 = popt[0]\n",
    "pars_2 = popt[1] #peak frequency\n",
    "pars_3 = popt[2]\n",
    "\n",
    "Q=pars_2/pars_3 # Q factor\n",
    "Amp=pars_1/(pars_3*pars_2)# peak vibration amplitude\n",
    "freq=pars_2\n",
    "print(Q,Amp,freq)\n",
    "#print(Amp)\n",
    "# print (\"-------------Peak-------------\")\n",
    "# print ('C = %0.2f (+/-) %0.2f'%(pars_1, perr[0]))\n",
    "# print (\"f0 = %0.2f (+/-) %0.2f\" % (pars_2, perr[1]))\n",
    "# print (\"r = %0.2f (+/-) %0.2f\" % (pars_3, perr[2]))\n",
    "# print(\"Q factor is %0.2f\" %(Q))"
   ]
  },
  {
   "cell_type": "code",
   "execution_count": 28,
   "metadata": {},
   "outputs": [
    {
     "data": {
      "image/png": "[encoded data removed]",
      "text/plain": [
       "<Figure size 288x288 with 2 Axes>"
      ]
     },
     "metadata": {
      "needs_background": "light"
     },
     "output_type": "display_data"
    }
   ],
   "source": [
    "fig = plt.figure(figsize=(4,4))\n",
    "gs = gridspec.GridSpec(2,1, height_ratios=[1,0.25])\n",
    "ax1 = fig.add_subplot(gs[0])\n",
    "ax2 = fig.add_subplot(gs[1])\n",
    "gs.update(hspace=0) \n",
    "\n",
    "ax1.plot(x_array, y_array, \"ro\")\n",
    "ax1.plot(x_array, resonance(x_array, *popt), 'k--')#,\\\n",
    "\n",
    "\n",
    "# residual\n",
    "ax2.plot(x_array, residual, \"bo\")\n",
    "    \n",
    "#ax1.set_xlim(-5,105)\n",
    "#ax1.set_ylim(-0.5,8)\n",
    "\n",
    "#ax2.set_xlim(-5,105)\n",
    "#ax2.set_ylim(-0.5,0.75)\n",
    "\n",
    "ax2.set_xlabel(\"Frequency\",family=\"serif\",  fontsize=12)\n",
    "ax1.set_ylabel(\"Vibration Amp\",family=\"serif\",  fontsize=12)\n",
    "ax2.set_ylabel(\"Res.\",family=\"serif\",  fontsize=12)\n",
    "\n",
    "# ax1.legend(loc=\"best\")\n",
    "\n",
    "ax1.xaxis.set_major_locator(ticker.MultipleLocator(20))\n",
    "#ax1.yaxis.set_major_locator(ticker.MultipleLocator(50))\n",
    "\n",
    "# ax2.xaxis.set_minor_locator(AutoMinorLocator(2))\n",
    "# ax1.yaxis.set_minor_locator(AutoMinorLocator(2))\n",
    "\n",
    "ax1.xaxis.set_major_formatter(plt.NullFormatter())\n",
    "\n",
    "ax1.tick_params(axis='x',which='major', direction=\"out\", top=\"on\", right=\"on\", bottom=\"off\", length=8, labelsize=8)\n",
    "#ax1.tick_params(axis='x',which='minor', direction=\"out\", top=\"on\", right=\"on\", bottom=\"off\", length=5, labelsize=8)\n",
    "ax1.tick_params(axis='y',which='major', direction=\"out\", top=\"on\", right=\"on\", bottom=\"off\", length=8, labelsize=8)\n",
    "#ax1.tick_params(axis='y',which='minor', direction=\"out\", top=\"on\", right=\"on\", bottom=\"on\", length=5, labelsize=8)\n",
    "\n",
    "ax2.tick_params(axis='x',which='major', direction=\"out\", top=\"off\", right=\"on\", bottom=\"on\", length=8, labelsize=8)\n",
    "#ax2.tick_params(axis='x',which='minor', direction=\"out\", top=\"off\", right=\"on\", bottom=\"on\", length=5, labelsize=8)\n",
    "ax2.tick_params(axis='y',which='major', direction=\"out\", top=\"off\", right=\"on\", bottom=\"on\", length=8, labelsize=8)\n",
    "#ax2.tick_params(axis='y',which='minor', direction=\"out\", top=\"off\", right=\"on\", bottom=\"on\", length=5, labelsize=8)\n",
    "\n",
    "fig.tight_layout()\n",
    "fig.savefig(\"fit_peaks_resid.png\", format=\"png\",dpi=1000)"
   ]
  },
  {
   "cell_type": "code",
   "execution_count": null,
   "metadata": {},
   "outputs": [],
   "source": []
  },
  {
   "cell_type": "code",
   "execution_count": null,
   "metadata": {},
   "outputs": [],
   "source": []
  }
 ],
 "metadata": {
  "kernelspec": {
   "display_name": "Python 3",
   "language": "python",
   "name": "python3"
  },
  "language_info": {
   "codemirror_mode": {
    "name": "ipython",
    "version": 3
   },
   "file_extension": ".py",
   "mimetype": "text/x-python",
   "name": "python",
   "nbconvert_exporter": "python",
   "pygments_lexer": "ipython3",
   "version": "3.7.3"
  }
 },
 "nbformat": 4,
 "nbformat_minor": 2
}
